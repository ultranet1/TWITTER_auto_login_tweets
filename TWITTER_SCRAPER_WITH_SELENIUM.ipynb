{
  "nbformat": 4,
  "nbformat_minor": 0,
  "metadata": {
    "colab": {
      "name": "TWITTER_SCRAPER_WITH_SELENIUM.ipynb",
      "provenance": [],
      "collapsed_sections": []
    },
    "kernelspec": {
      "name": "python3",
      "display_name": "Python 3"
    }
  },
  "cells": [
    {
      "cell_type": "code",
      "metadata": {
        "colab": {
          "base_uri": "https://localhost:8080/"
        },
        "id": "4HtaEEOlHS8p",
        "outputId": "5c5e819c-6ba4-4cf7-b86d-f75272853cce"
      },
      "source": [
        "\r\n",
        "!apt install chromium-chromedriver"
      ],
      "execution_count": 7,
      "outputs": [
        {
          "output_type": "stream",
          "text": [
            "Reading package lists... Done\n",
            "Building dependency tree       \n",
            "Reading state information... Done\n",
            "The following additional packages will be installed:\n",
            "  chromium-browser chromium-browser-l10n chromium-codecs-ffmpeg-extra\n",
            "Suggested packages:\n",
            "  webaccounts-chromium-extension unity-chromium-extension adobe-flashplugin\n",
            "The following NEW packages will be installed:\n",
            "  chromium-browser chromium-browser-l10n chromium-chromedriver\n",
            "  chromium-codecs-ffmpeg-extra\n",
            "0 upgraded, 4 newly installed, 0 to remove and 12 not upgraded.\n",
            "Need to get 81.0 MB of archives.\n",
            "After this operation, 273 MB of additional disk space will be used.\n",
            "Get:1 http://archive.ubuntu.com/ubuntu bionic-updates/universe amd64 chromium-codecs-ffmpeg-extra amd64 87.0.4280.66-0ubuntu0.18.04.1 [1,122 kB]\n",
            "Get:2 http://archive.ubuntu.com/ubuntu bionic-updates/universe amd64 chromium-browser amd64 87.0.4280.66-0ubuntu0.18.04.1 [71.7 MB]\n",
            "Get:3 http://archive.ubuntu.com/ubuntu bionic-updates/universe amd64 chromium-browser-l10n all 87.0.4280.66-0ubuntu0.18.04.1 [3,716 kB]\n",
            "Get:4 http://archive.ubuntu.com/ubuntu bionic-updates/universe amd64 chromium-chromedriver amd64 87.0.4280.66-0ubuntu0.18.04.1 [4,488 kB]\n",
            "Fetched 81.0 MB in 5s (15.3 MB/s)\n",
            "Selecting previously unselected package chromium-codecs-ffmpeg-extra.\n",
            "(Reading database ... 146364 files and directories currently installed.)\n",
            "Preparing to unpack .../chromium-codecs-ffmpeg-extra_87.0.4280.66-0ubuntu0.18.04.1_amd64.deb ...\n",
            "Unpacking chromium-codecs-ffmpeg-extra (87.0.4280.66-0ubuntu0.18.04.1) ...\n",
            "Selecting previously unselected package chromium-browser.\n",
            "Preparing to unpack .../chromium-browser_87.0.4280.66-0ubuntu0.18.04.1_amd64.deb ...\n",
            "Unpacking chromium-browser (87.0.4280.66-0ubuntu0.18.04.1) ...\n",
            "Selecting previously unselected package chromium-browser-l10n.\n",
            "Preparing to unpack .../chromium-browser-l10n_87.0.4280.66-0ubuntu0.18.04.1_all.deb ...\n",
            "Unpacking chromium-browser-l10n (87.0.4280.66-0ubuntu0.18.04.1) ...\n",
            "Selecting previously unselected package chromium-chromedriver.\n",
            "Preparing to unpack .../chromium-chromedriver_87.0.4280.66-0ubuntu0.18.04.1_amd64.deb ...\n",
            "Unpacking chromium-chromedriver (87.0.4280.66-0ubuntu0.18.04.1) ...\n",
            "Setting up chromium-codecs-ffmpeg-extra (87.0.4280.66-0ubuntu0.18.04.1) ...\n",
            "Setting up chromium-browser (87.0.4280.66-0ubuntu0.18.04.1) ...\n",
            "update-alternatives: using /usr/bin/chromium-browser to provide /usr/bin/x-www-browser (x-www-browser) in auto mode\n",
            "update-alternatives: using /usr/bin/chromium-browser to provide /usr/bin/gnome-www-browser (gnome-www-browser) in auto mode\n",
            "Setting up chromium-chromedriver (87.0.4280.66-0ubuntu0.18.04.1) ...\n",
            "Setting up chromium-browser-l10n (87.0.4280.66-0ubuntu0.18.04.1) ...\n",
            "Processing triggers for hicolor-icon-theme (0.17-2) ...\n",
            "Processing triggers for mime-support (3.60ubuntu1) ...\n",
            "Processing triggers for man-db (2.8.3-2ubuntu0.1) ...\n"
          ],
          "name": "stdout"
        }
      ]
    },
    {
      "cell_type": "code",
      "metadata": {
        "colab": {
          "base_uri": "https://localhost:8080/"
        },
        "id": "wxb-XSnK4_Ef",
        "outputId": "5ab0f2be-b9f2-4d4a-ab7f-d21759399ba8"
      },
      "source": [
        "pip install selenium"
      ],
      "execution_count": 4,
      "outputs": [
        {
          "output_type": "stream",
          "text": [
            "Collecting selenium\n",
            "\u001b[?25l  Downloading https://files.pythonhosted.org/packages/80/d6/4294f0b4bce4de0abf13e17190289f9d0613b0a44e5dd6a7f5ca98459853/selenium-3.141.0-py2.py3-none-any.whl (904kB)\n",
            "\r\u001b[K     |▍                               | 10kB 12.3MB/s eta 0:00:01\r\u001b[K     |▊                               | 20kB 15.2MB/s eta 0:00:01\r\u001b[K     |█                               | 30kB 19.6MB/s eta 0:00:01\r\u001b[K     |█▌                              | 40kB 16.3MB/s eta 0:00:01\r\u001b[K     |█▉                              | 51kB 12.3MB/s eta 0:00:01\r\u001b[K     |██▏                             | 61kB 12.0MB/s eta 0:00:01\r\u001b[K     |██▌                             | 71kB 8.8MB/s eta 0:00:01\r\u001b[K     |███                             | 81kB 8.9MB/s eta 0:00:01\r\u001b[K     |███▎                            | 92kB 9.7MB/s eta 0:00:01\r\u001b[K     |███▋                            | 102kB 10.1MB/s eta 0:00:01\r\u001b[K     |████                            | 112kB 10.1MB/s eta 0:00:01\r\u001b[K     |████▍                           | 122kB 10.1MB/s eta 0:00:01\r\u001b[K     |████▊                           | 133kB 10.1MB/s eta 0:00:01\r\u001b[K     |█████                           | 143kB 10.1MB/s eta 0:00:01\r\u001b[K     |█████▍                          | 153kB 10.1MB/s eta 0:00:01\r\u001b[K     |█████▉                          | 163kB 10.1MB/s eta 0:00:01\r\u001b[K     |██████▏                         | 174kB 10.1MB/s eta 0:00:01\r\u001b[K     |██████▌                         | 184kB 10.1MB/s eta 0:00:01\r\u001b[K     |██████▉                         | 194kB 10.1MB/s eta 0:00:01\r\u001b[K     |███████▎                        | 204kB 10.1MB/s eta 0:00:01\r\u001b[K     |███████▋                        | 215kB 10.1MB/s eta 0:00:01\r\u001b[K     |████████                        | 225kB 10.1MB/s eta 0:00:01\r\u001b[K     |████████▎                       | 235kB 10.1MB/s eta 0:00:01\r\u001b[K     |████████▊                       | 245kB 10.1MB/s eta 0:00:01\r\u001b[K     |█████████                       | 256kB 10.1MB/s eta 0:00:01\r\u001b[K     |█████████▍                      | 266kB 10.1MB/s eta 0:00:01\r\u001b[K     |█████████▉                      | 276kB 10.1MB/s eta 0:00:01\r\u001b[K     |██████████▏                     | 286kB 10.1MB/s eta 0:00:01\r\u001b[K     |██████████▌                     | 296kB 10.1MB/s eta 0:00:01\r\u001b[K     |██████████▉                     | 307kB 10.1MB/s eta 0:00:01\r\u001b[K     |███████████▎                    | 317kB 10.1MB/s eta 0:00:01\r\u001b[K     |███████████▋                    | 327kB 10.1MB/s eta 0:00:01\r\u001b[K     |████████████                    | 337kB 10.1MB/s eta 0:00:01\r\u001b[K     |████████████▎                   | 348kB 10.1MB/s eta 0:00:01\r\u001b[K     |████████████▊                   | 358kB 10.1MB/s eta 0:00:01\r\u001b[K     |█████████████                   | 368kB 10.1MB/s eta 0:00:01\r\u001b[K     |█████████████▍                  | 378kB 10.1MB/s eta 0:00:01\r\u001b[K     |█████████████▊                  | 389kB 10.1MB/s eta 0:00:01\r\u001b[K     |██████████████▏                 | 399kB 10.1MB/s eta 0:00:01\r\u001b[K     |██████████████▌                 | 409kB 10.1MB/s eta 0:00:01\r\u001b[K     |██████████████▉                 | 419kB 10.1MB/s eta 0:00:01\r\u001b[K     |███████████████▏                | 430kB 10.1MB/s eta 0:00:01\r\u001b[K     |███████████████▋                | 440kB 10.1MB/s eta 0:00:01\r\u001b[K     |████████████████                | 450kB 10.1MB/s eta 0:00:01\r\u001b[K     |████████████████▎               | 460kB 10.1MB/s eta 0:00:01\r\u001b[K     |████████████████▋               | 471kB 10.1MB/s eta 0:00:01\r\u001b[K     |█████████████████               | 481kB 10.1MB/s eta 0:00:01\r\u001b[K     |█████████████████▍              | 491kB 10.1MB/s eta 0:00:01\r\u001b[K     |█████████████████▊              | 501kB 10.1MB/s eta 0:00:01\r\u001b[K     |██████████████████▏             | 512kB 10.1MB/s eta 0:00:01\r\u001b[K     |██████████████████▌             | 522kB 10.1MB/s eta 0:00:01\r\u001b[K     |██████████████████▉             | 532kB 10.1MB/s eta 0:00:01\r\u001b[K     |███████████████████▏            | 542kB 10.1MB/s eta 0:00:01\r\u001b[K     |███████████████████▋            | 552kB 10.1MB/s eta 0:00:01\r\u001b[K     |████████████████████            | 563kB 10.1MB/s eta 0:00:01\r\u001b[K     |████████████████████▎           | 573kB 10.1MB/s eta 0:00:01\r\u001b[K     |████████████████████▋           | 583kB 10.1MB/s eta 0:00:01\r\u001b[K     |█████████████████████           | 593kB 10.1MB/s eta 0:00:01\r\u001b[K     |█████████████████████▍          | 604kB 10.1MB/s eta 0:00:01\r\u001b[K     |█████████████████████▊          | 614kB 10.1MB/s eta 0:00:01\r\u001b[K     |██████████████████████          | 624kB 10.1MB/s eta 0:00:01\r\u001b[K     |██████████████████████▌         | 634kB 10.1MB/s eta 0:00:01\r\u001b[K     |██████████████████████▉         | 645kB 10.1MB/s eta 0:00:01\r\u001b[K     |███████████████████████▏        | 655kB 10.1MB/s eta 0:00:01\r\u001b[K     |███████████████████████▌        | 665kB 10.1MB/s eta 0:00:01\r\u001b[K     |████████████████████████        | 675kB 10.1MB/s eta 0:00:01\r\u001b[K     |████████████████████████▎       | 686kB 10.1MB/s eta 0:00:01\r\u001b[K     |████████████████████████▋       | 696kB 10.1MB/s eta 0:00:01\r\u001b[K     |█████████████████████████       | 706kB 10.1MB/s eta 0:00:01\r\u001b[K     |█████████████████████████▍      | 716kB 10.1MB/s eta 0:00:01\r\u001b[K     |█████████████████████████▊      | 727kB 10.1MB/s eta 0:00:01\r\u001b[K     |██████████████████████████      | 737kB 10.1MB/s eta 0:00:01\r\u001b[K     |██████████████████████████▍     | 747kB 10.1MB/s eta 0:00:01\r\u001b[K     |██████████████████████████▉     | 757kB 10.1MB/s eta 0:00:01\r\u001b[K     |███████████████████████████▏    | 768kB 10.1MB/s eta 0:00:01\r\u001b[K     |███████████████████████████▌    | 778kB 10.1MB/s eta 0:00:01\r\u001b[K     |████████████████████████████    | 788kB 10.1MB/s eta 0:00:01\r\u001b[K     |████████████████████████████▎   | 798kB 10.1MB/s eta 0:00:01\r\u001b[K     |████████████████████████████▋   | 808kB 10.1MB/s eta 0:00:01\r\u001b[K     |█████████████████████████████   | 819kB 10.1MB/s eta 0:00:01\r\u001b[K     |█████████████████████████████▍  | 829kB 10.1MB/s eta 0:00:01\r\u001b[K     |█████████████████████████████▊  | 839kB 10.1MB/s eta 0:00:01\r\u001b[K     |██████████████████████████████  | 849kB 10.1MB/s eta 0:00:01\r\u001b[K     |██████████████████████████████▍ | 860kB 10.1MB/s eta 0:00:01\r\u001b[K     |██████████████████████████████▉ | 870kB 10.1MB/s eta 0:00:01\r\u001b[K     |███████████████████████████████▏| 880kB 10.1MB/s eta 0:00:01\r\u001b[K     |███████████████████████████████▌| 890kB 10.1MB/s eta 0:00:01\r\u001b[K     |███████████████████████████████▉| 901kB 10.1MB/s eta 0:00:01\r\u001b[K     |████████████████████████████████| 911kB 10.1MB/s \n",
            "\u001b[?25hRequirement already satisfied: urllib3 in /usr/local/lib/python3.6/dist-packages (from selenium) (1.24.3)\n",
            "Installing collected packages: selenium\n",
            "Successfully installed selenium-3.141.0\n"
          ],
          "name": "stdout"
        }
      ]
    },
    {
      "cell_type": "code",
      "metadata": {
        "id": "37j8eYAGoPd3"
      },
      "source": [
        "import pandas as pd\r\n",
        "from selenium import webdriver\r\n",
        "import sys\r\n",
        "import time\r\n",
        "from selenium.webdriver.support.ui import WebDriverWait\r\n",
        "from selenium.webdriver.support.ui import Select\r\n",
        "from selenium.webdriver.support import expected_conditions as EC\r\n",
        "from selenium.webdriver.common.by import By\r\n",
        "from selenium.common.exceptions import TimeoutException"
      ],
      "execution_count": 24,
      "outputs": []
    },
    {
      "cell_type": "code",
      "metadata": {
        "id": "aoP7aRQwotIt"
      },
      "source": [
        " options = webdriver.ChromeOptions()\r\n",
        "options.add_argument('--headless')\r\n",
        "options.add_argument('--no-sandbox')\r\n",
        "options.add_argument('--disable-dev-shm-usage')\r\n",
        "\r\n",
        "options.add_argument(\"start-maximized\")\r\n",
        "options.add_experimental_option(\"excludeSwitches\", [\"enable-automation\"])\r\n",
        "options.add_experimental_option('useAutomationExtension', False)\r\n",
        "\r\n",
        "\r\n",
        "sys.path.insert(0,'/usr/lib/chromium-browser/chromedriver')\r\n",
        "driver = webdriver.Chrome('chromedriver', options=options)"
      ],
      "execution_count": 26,
      "outputs": []
    },
    {
      "cell_type": "code",
      "metadata": {
        "id": "NJs5JbaZEyui"
      },
      "source": [
        "from selenium import webdriver\r\n",
        "from getpass import getpass\r\n",
        "\r\n",
        "def login_twitter(username, password):\r\n",
        "    driver = webdriver.Chrome('chromedriver', options=options)\r\n",
        "    driver.get(\"https://twitter.com/login\")\r\n",
        "\r\n",
        "    username_field = driver.find_element_by_name(\"session[username_or_email]\")\r\n",
        "    password_field = driver.find_element_by_name(\"session[password]\")\r\n",
        "\r\n",
        "    username_field.send_keys(username)\r\n",
        "    driver.implicitly_wait(1)\r\n",
        "    \r\n",
        "    password_field.send_keys(password)\r\n",
        "    driver.implicitly_wait(1)\r\n",
        "    password_field.submit()\r\n",
        "\r\n",
        "def auto_tweet(tweet, button):\r\n",
        "    driver = webdriver.Chrome('chromedriver', options=options)\r\n",
        "    tweet_field=driver.find_element_by_id('placeholder-au3tp')\r\n",
        "    button=driver.find_element_by_xpath('//*[@id=\"react-root\"]/div/div/div[2]/main/div/div/div/div/div/div[2]/div/div[2]/div[1]/div/div/div/div[2]/div[4]/div/div/div[2]/div')\r\n",
        "\r\n",
        "    tweet_field.send_keys(tweet)\r\n",
        "    driver.implicitly_wait(1)\r\n",
        "\r\n",
        "    button.click()\r\n",
        "    driver.implicitly_wait(1)\r\n",
        "\r\n",
        "if __name__ == \"__main__\":\r\n",
        "    username = input(\"user name : \")\r\n",
        "    password = getpass(\"password  : \")\r\n",
        "    tweet = input(\"what is hapening?: \")\r\n",
        "    button=driver.find_element_by_xpath('//*[@id=\"react-root\"]/div/div/div[2]/main/div/div/div/div/div/div[2]/div/div[2]/div[1]/div/div/div/div[2]/div[4]/div/div/div[2]/div')\r\n",
        "    driver = webdriver.Chrome('chromedriver', options=options)\r\n",
        "    login_twitter(username, password)\r\n",
        "    auto_tweet(tweet,button)\r\n",
        "\r\n"
      ],
      "execution_count": null,
      "outputs": []
    },
    {
      "cell_type": "markdown",
      "metadata": {
        "id": "0h8V9bZ-Amuj"
      },
      "source": [
        "OR\r\n"
      ]
    },
    {
      "cell_type": "code",
      "metadata": {
        "id": "BKhlDmkpHbKT"
      },
      "source": [
        "from selenium import webdriver\r\n",
        "\r\n",
        "driver = webdriver.Chrome('chromedriver', options=options)\r\n",
        "driver.get(\"https://twitter.com/login\")\r\n",
        "\r\n",
        "username_field = driver.find_element_by_name(\"session[username_or_email]\")\r\n",
        "username_field.send_keys('umatech1')\r\n",
        "driver.implicitly_wait(1)\r\n",
        "password_field = driver.find_element_by_name(\"session[password]\")\r\n",
        "password_field.send_keys('m')\r\n",
        "driver.implicitly_wait(1)\r\n",
        "  \r\n",
        "password_field.submit()\r\n",
        "\r\n"
      ],
      "execution_count": 44,
      "outputs": []
    },
    {
      "cell_type": "code",
      "metadata": {
        "id": "GI9l9LNDZJEY"
      },
      "source": [
        "driver.find_element_by_xpath('''/html/body/div/div/div/div[2]/main/div/div/div/div/div/div[2]/div/div[2]/div[1]/div/div/div/div[2]/div[4]/div/div/div[2]/a''')\r\n",
        "                        \r\n",
        "                        \r\n",
        "tweet_field.send_keys('hello world')\r\n",
        "driver.implicitly_wait(5)\r\n",
        "button=driver.find_element_by_xpath('//*[@id=\"react-root\"]/div/div/div[2]/main/div/div/div/div/div/div[2]/div/div[2]/div[1]/div/div/div/div[2]/div[4]/div/div/div[2]/div').click()"
      ],
      "execution_count": null,
      "outputs": []
    }
  ]
}